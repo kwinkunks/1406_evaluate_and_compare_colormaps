{
 "metadata": {
  "name": "",
  "signature": "sha256:88435d3672d023d4d004fd23590887b05402518d0f00a1dd87488069780c1b1a"
 },
 "nbformat": 3,
 "nbformat_minor": 0,
 "worksheets": [
  {
   "cells": [
    {
     "cell_type": "heading",
     "level": 2,
     "metadata": {},
     "source": [
      "How to evaluate and compare colormaps"
     ]
    },
    {
     "cell_type": "markdown",
     "metadata": {},
     "source": [
      "Matteo Niccoli, MyCarta\n",
      "\n",
      "Calgary, Alberta, Canada\n",
      "\n",
      "mycarta.wordpress.com\n",
      "\n",
      "matteo@mycarta.ca"
     ]
    },
    {
     "cell_type": "heading",
     "level": 3,
     "metadata": {},
     "source": [
      "Introduction"
     ]
    },
    {
     "cell_type": "markdown",
     "metadata": {},
     "source": [
      "Rainbow palettes are not perceptual: they do not match how the brain intuitively interprets color. \n",
      "There is a wealth of literature (e.g. Borland et al. 2007, Rogowitz and Kalvin 2001, Montag 1999, Rogowitz et al. 1999, Light and Bartlein 2004, Borkin et al. 2011) showing that non-perceptual palettes are poor choices for maps and data visualization. \n",
      "\n",
      "To represent interval data (e.g. elevation or time structure) or ratio data (e.g. seismic amplitude), the equal steps in the magnitude of the data require equal perceptual distance between points in the color scale. \n",
      "So good palettes are those that have a monotonic and increasing lightness (or intensity) profile.\n",
      "\n"
     ]
    },
    {
     "cell_type": "heading",
     "level": 3,
     "metadata": {},
     "source": [
      "Perception experiment"
     ]
    },
    {
     "cell_type": "markdown",
     "metadata": {},
     "source": [
      "You can convince yourself of how bad these palettes are with the simple experiment in this section, where we deconstruct 'spectral', one of the default palettes from the Matplotlib plotting library commonly used in scientific computing.\n",
      "\n",
      "The conceptual premise for the experiment comes from Rogowitz et al. (1999), who examined the hue\u2013saturation\u2013lightness components of several colormaps to see how each component encoded the magnitude information in the data. Let's try that here with 'spectral'."
     ]
    },
    {
     "cell_type": "markdown",
     "metadata": {},
     "source": [
      "First, we import the Numpy Python library (a set of functions to run mathematical operations. Typically tools are faster than the default Python commands).\n",
      "Next, we import the plot command from the Matplotlib library (a library of plotting functions and utilities commonly used in scientific computing)."
     ]
    },
    {
     "cell_type": "code",
     "collapsed": false,
     "input": [
      "import numpy as np\n",
      "import matplotlib.pyplot as plt\n",
      "%matplotlib inline\n"
     ],
     "language": "python",
     "metadata": {},
     "outputs": [],
     "prompt_number": 1
    },
    {
     "cell_type": "markdown",
     "metadata": {},
     "source": [
      "Let's first take a look at the Matplotlib spectral colormap.\n",
      "To do that, the next block of code generates a random 8x8 checker-board pattern then uses spectral to colour it."
     ]
    },
    {
     "cell_type": "code",
     "collapsed": false,
     "input": [
      "rndm = np.random.rand(8,8)\n",
      "my_spectral = plt.get_cmap('spectral') \n",
      "\n",
      "plt.figure(figsize=(5,4))\n",
      "plt.pcolor(rndm, cmap=my_spectral)\n",
      "plt.colorbar()\n",
      "plt.show()"
     ],
     "language": "python",
     "metadata": {},
     "outputs": [
      {
       "metadata": {},
       "output_type": "display_data",
       "png": "[encoded data removed]",
       "text": [
        "<matplotlib.figure.Figure at 0x7e5ed90>"
       ]
      }
     ],
     "prompt_number": 2
    },
    {
     "cell_type": "markdown",
     "metadata": {},
     "source": [
      "The next block of code creates a 16-hue colorbar using the spectral colormap. The first step is to generate a sequence of evenly spaced numbers, the integers from 0 to 15, using the numpy.arange function. Each of these numbers will be assigned a colour (note that throughout the notebook I will use hues and colours interchangeably).  when we plot the sequence using the colormap.\n",
      "\n",
      "You can uncomment the last line to save the figure as a PNG image file."
     ]
    },
    {
     "cell_type": "code",
     "collapsed": false,
     "input": [
      "data=np.arange(16)\n",
      "\n",
      "fig1 = plt.figure(figsize=(20, 4))\n",
      "ax1 = fig1.add_subplot(1, 1, 1)\n",
      "\n",
      "ax1.set_xticks([])\n",
      "ax1.set_yticks([])  # these two commands remove tick marks (and tick abels) by setting them as empty\n",
      "\n",
      "ax1.set_xlabel('Colours', fontsize = '32')\n",
      "im = ax1.imshow([data], interpolation = 'none', cmap = 'spectral', aspect='2')\n",
      "plt.show()\n",
      "\n",
      "#fig1.savefig('colours.png', dpi=100)"
     ],
     "language": "python",
     "metadata": {},
     "outputs": [
      {
       "metadata": {},
       "output_type": "display_data",
       "png": "[encoded data removed]",
       "text": [
        "<matplotlib.figure.Figure at 0x7e94590>"
       ]
      }
     ],
     "prompt_number": 3
    },
    {
     "cell_type": "markdown",
     "metadata": {},
     "source": [
      "At first sight this colorbar may seem like a pleasant and ordered sequence of hues. But to be sure we really need to look at how these hues encode the magnitude in the data, and we do that by converting the hues to intensity and analysing the sequence of intensity values.\n",
      "\n",
      "We do that by firstly extracting the RGB values for each colour. This is not trivial: we're using a Matplotlib colormap, which has values for R, G, B, and A (Alpha, whihc controls opacity) in the range 0-1, but our data is made up of 16 numbers is in the range 0-15. \n",
      "\n",
      "The first block of code below scales the data to the same range as the colormap so we can extract the RGB values. In other words, we create 16 equally spaced numbers between 0 and 15."
     ]
    },
    {
     "cell_type": "code",
     "collapsed": false,
     "input": [
      "# import required matplotlib tool\n",
      "import matplotlib.colors as clr\n",
      "\n",
      "# generate 16 equally-spaced numbers in the range 0-1 \n",
      "norm = clr.Normalize(0, 15) \n",
      "n=norm(data) \n",
      "\n",
      "# make sure we got what we wanted\n",
      "print data\n",
      "print n"
     ],
     "language": "python",
     "metadata": {},
     "outputs": [
      {
       "output_type": "stream",
       "stream": "stdout",
       "text": [
        "[ 0  1  2  3  4  5  6  7  8  9 10 11 12 13 14 15]\n",
        "[ 0.          0.06666667  0.13333333  0.2         0.26666667  0.33333333\n",
        "  0.4         0.46666667  0.53333333  0.6         0.66666667  0.73333333\n",
        "  0.8         0.86666667  0.93333333  1.        ]\n"
       ]
      }
     ],
     "prompt_number": 4
    },
    {
     "cell_type": "markdown",
     "metadata": {},
     "source": [
      "Now with this block below we use the 16 numbers in 'n' to extract the RGBA values for each color in the palette, then we discard A.\n",
      "\n",
      "The way we discard A is with the slicing notation [:,:3]. This is equivalent to saying, for every row (specified by the colon :) in rgba, get items from 0 to, but not including 3 (specified by :3).\n",
      "More help on slicing in this Stackoverflow answer http://stackoverflow.com/a/509295/1034648"
     ]
    },
    {
     "cell_type": "code",
     "collapsed": false,
     "input": [
      "# import required matplotlib tool\n",
      "import matplotlib.cm as cm\n",
      "\n",
      "# get the colormap\n",
      "my_cmap = cm.get_cmap('spectral') \n",
      "\n",
      "# extract the colormap RGBA values at the 16 \n",
      "rgba = my_cmap(n)\n",
      "\n",
      "# slice rgba to discard Alpha\n",
      "rgb01= rgba[:,:3]\n",
      "\n",
      "print rgb01"
     ],
     "language": "python",
     "metadata": {},
     "outputs": [
      {
       "output_type": "stream",
       "stream": "stdout",
       "text": [
        "[[ 0.          0.          0.        ]\n",
        " [ 0.4889      0.          0.55553333]\n",
        " [ 0.17776667  0.          0.64446667]\n",
        " [ 0.          0.          0.8667    ]\n",
        " [ 0.          0.51113333  0.8667    ]\n",
        " [ 0.          0.64446667  0.73336667]\n",
        " [ 0.          0.6667      0.5333    ]\n",
        " [ 0.          0.64443333  0.        ]\n",
        " [ 0.          0.82223333  0.        ]\n",
        " [ 0.          1.          0.        ]\n",
        " [ 0.79996667  0.97776667  0.        ]\n",
        " [ 0.97776667  0.84443333  0.        ]\n",
        " [ 1.          0.6         0.        ]\n",
        " [ 0.95556667  0.          0.        ]\n",
        " [ 0.82223333  0.          0.        ]\n",
        " [ 0.8         0.8         0.8       ]]\n"
       ]
      }
     ],
     "prompt_number": 5
    },
    {
     "cell_type": "markdown",
     "metadata": {},
     "source": [
      "And now that we've extracted RGB values in the range 0-1 we convert them to the range 0-255 to perform the conversion to intensity."
     ]
    },
    {
     "cell_type": "code",
     "collapsed": false,
     "input": [
      "rgb255 = np.multiply(rgb01,255)\n",
      "rgb = np.rint(rgb255) # rounds up to nearest integer\n",
      "\n",
      "print rgb"
     ],
     "language": "python",
     "metadata": {},
     "outputs": [
      {
       "output_type": "stream",
       "stream": "stdout",
       "text": [
        "[[   0.    0.    0.]\n",
        " [ 125.    0.  142.]\n",
        " [  45.    0.  164.]\n",
        " [   0.    0.  221.]\n",
        " [   0.  130.  221.]\n",
        " [   0.  164.  187.]\n",
        " [   0.  170.  136.]\n",
        " [   0.  164.    0.]\n",
        " [   0.  210.    0.]\n",
        " [   0.  255.    0.]\n",
        " [ 204.  249.    0.]\n",
        " [ 249.  215.    0.]\n",
        " [ 255.  153.    0.]\n",
        " [ 244.    0.    0.]\n",
        " [ 210.    0.    0.]\n",
        " [ 204.  204.  204.]]\n"
       ]
      }
     ],
     "prompt_number": 6
    },
    {
     "cell_type": "markdown",
     "metadata": {},
     "source": [
      "Finally we run the conversion (notice that Python indexes elements starting with 0, not with 1 like Matlab)."
     ]
    },
    {
     "cell_type": "code",
     "collapsed": false,
     "input": [
      "intnst = 0.2989 * rgb[:,0] + 0.5870 * rgb[:,1] + 0.1140 * rgb[:,2] # get the intensity\n",
      "intensity = np.rint(intnst) # rounds up to nearest integer"
     ],
     "language": "python",
     "metadata": {},
     "outputs": [],
     "prompt_number": 7
    },
    {
     "cell_type": "markdown",
     "metadata": {},
     "source": [
      "And lastly, we create the intensity colorbar using grayscale colormap. \n",
      "\n",
      "You can uncomment the last line to save the figure as a PNG image file."
     ]
    },
    {
     "cell_type": "code",
     "collapsed": false,
     "input": [
      "fig2 = plt.figure(figsize=(20,4))\n",
      "ax2 = fig2.add_subplot(1, 1, 1)\n",
      "\n",
      "ax2.set_xticks([])\n",
      "ax2.set_yticks([])\n",
      "\n",
      "ax2.set_xlabel('Colour intensity', fontsize = '32')\n",
      "im = ax2.imshow([intensity], interpolation = 'none', cmap = 'gray', aspect='2')\n",
      "plt.show()\n",
      "\n",
      "#fig2.savefig('intensity.png', dpi=100)"
     ],
     "language": "python",
     "metadata": {},
     "outputs": [
      {
       "metadata": {},
       "output_type": "display_data",
       "png": "[encoded data removed]",
       "text": [
        "<matplotlib.figure.Figure at 0x7e8a3d0>"
       ]
      }
     ],
     "prompt_number": 8
    },
    {
     "cell_type": "markdown",
     "metadata": {},
     "source": [
      "This second colorbar does not look \u2018right\u2019 any more, as the intensity goes up and down seemingly randomly.\n",
      "Let's look at the values to confirm it."
     ]
    },
    {
     "cell_type": "code",
     "collapsed": false,
     "input": [
      "print intensity"
     ],
     "language": "python",
     "metadata": {},
     "outputs": [
      {
       "output_type": "stream",
       "stream": "stdout",
       "text": [
        "[   0.   54.   32.   25.  102.  118.  115.   96.  123.  150.  207.  201.\n",
        "  166.   73.   63.  204.]\n"
       ]
      }
     ],
     "prompt_number": 9
    },
    {
     "cell_type": "raw",
     "metadata": {},
     "source": [
      "What we'd want from an ideal palette is for intensity to increase monotonically. The numpy.sort function does just that."
     ]
    },
    {
     "cell_type": "code",
     "collapsed": false,
     "input": [
      "sorted_intensity = np.sort(intensity)\n",
      "\n",
      "# check the values\n",
      "sorted_intensity"
     ],
     "language": "python",
     "metadata": {},
     "outputs": [
      {
       "metadata": {},
       "output_type": "pyout",
       "prompt_number": 10,
       "text": [
        "array([   0.,   25.,   32.,   54.,   63.,   73.,   96.,  102.,  115.,\n",
        "        118.,  123.,  150.,  166.,  201.,  204.,  207.])"
       ]
      }
     ],
     "prompt_number": 10
    },
    {
     "cell_type": "markdown",
     "metadata": {},
     "source": [
      "Now we create the colorbar of sorted intensity using grayscale colormap. \n",
      "\n",
      "You can uncomment the last line to save the figure as a PNG image file."
     ]
    },
    {
     "cell_type": "code",
     "collapsed": false,
     "input": [
      "fig3 = plt.figure(figsize=(20, 4))\n",
      "ax3 = fig3.add_subplot(1, 1, 1)\n",
      "\n",
      "ax3.set_xticks([])\n",
      "ax3.set_yticks([])\n",
      "\n",
      "ax3.set_xlabel('Sorted colour intensity', fontsize = '32')\n",
      "im = ax3.imshow([sorted_intensity], interpolation = 'none', cmap = 'gray', aspect='2')\n",
      "plt.show()\n",
      "\n",
      "#fig3.savefig('sorted_intensity.png', dpi=100)"
     ],
     "language": "python",
     "metadata": {},
     "outputs": [
      {
       "metadata": {},
       "output_type": "display_data",
       "png": "[encoded data removed]",
       "text": [
        "<matplotlib.figure.Figure at 0x7f02970>"
       ]
      }
     ],
     "prompt_number": 11
    },
    {
     "cell_type": "markdown",
     "metadata": {},
     "source": [
      "That looks better. The last three elements on the right all look similar, but we will try to explain that a bit further down.\n",
      "\n",
      "Now we want to look at the full color version of the intensity-sorted map. This requires again a sorting operation, but this time we want to sort simultaneously RGB values and intensity using the latter, which is a bit more involved.\n",
      "\n",
      "First, we use the zip function to join together data and intesity (as a list of tuples) which we can then sort."
     ]
    },
    {
     "cell_type": "code",
     "collapsed": false,
     "input": [
      "colors = zip(data, intensity)  \n",
      "\n",
      "# check the result\n",
      "print colors"
     ],
     "language": "python",
     "metadata": {},
     "outputs": [
      {
       "output_type": "stream",
       "stream": "stdout",
       "text": [
        "[(0, 0.0), (1, 54.0), (2, 32.0), (3, 25.0), (4, 102.0), (5, 118.0), (6, 115.0), (7, 96.0), (8, 123.0), (9, 150.0), (10, 207.0), (11, 201.0), (12, 166.0), (13, 73.0), (14, 63.0), (15, 204.0)]\n"
       ]
      }
     ],
     "prompt_number": 12
    },
    {
     "cell_type": "markdown",
     "metadata": {},
     "source": [
      "With the next block of code we sort the tuples in the list above by intensity (last element of tuple).\n",
      "\n",
      "As I anticipated, we do it in a different way from how we sorted intensity alone, by using the function sorted(). This function accepts a key parameter to specify a function to be called on the element we want to sort by. In this case the function called is an anonymous function (one which you do not have to define with 'def'). \n",
      "Lambda is the Python keyword used to generate anonymous functions.\n",
      "x[-1] is the element in the tuple we want to sort by (the last one)."
     ]
    },
    {
     "cell_type": "code",
     "collapsed": false,
     "input": [
      "sorted_colors = sorted(colors, key=lambda x: x[-1]) \n",
      "\n",
      "# make sure it worked\n",
      "print sorted_colors"
     ],
     "language": "python",
     "metadata": {},
     "outputs": [
      {
       "output_type": "stream",
       "stream": "stdout",
       "text": [
        "[(0, 0.0), (3, 25.0), (2, 32.0), (1, 54.0), (14, 63.0), (13, 73.0), (7, 96.0), (4, 102.0), (6, 115.0), (5, 118.0), (8, 123.0), (9, 150.0), (12, 166.0), (11, 201.0), (15, 204.0), (10, 207.0)]\n"
       ]
      }
     ],
     "prompt_number": 13
    },
    {
     "cell_type": "markdown",
     "metadata": {},
     "source": [
      "Next we get the sorted data from the sorted list of tuples, and we store it in a new list using a synthax called \n",
      "list comprehension. \n",
      "With the command below we are saying:\"for each tuple x in the list sorted_colours, write to a new list sorted_data the first element (remember again that Python starts indexing elements at 0, not 1 like Matlab).\n",
      "\n",
      "List comprehension is a more compact syntax than an explicit for loop, where we'd iterate through the existing list, and it is by many the recommended syntax for creating lists from other lists.\n",
      "\n",
      "Good article on list comprehension: http://carlgroner.me/Python/2011/11/09/An-Introduction-to-List-Comprehensions-in-Python.html"
     ]
    },
    {
     "cell_type": "code",
     "collapsed": false,
     "input": [
      "sorted_data = [x[0] for x in sorted_colors] \n",
      "\n",
      "# check the result\n",
      "print sorted_data"
     ],
     "language": "python",
     "metadata": {},
     "outputs": [
      {
       "output_type": "stream",
       "stream": "stdout",
       "text": [
        "[0, 3, 2, 1, 14, 13, 7, 4, 6, 5, 8, 9, 12, 11, 15, 10]\n"
       ]
      }
     ],
     "prompt_number": 14
    },
    {
     "cell_type": "markdown",
     "metadata": {},
     "source": [
      "Now we create the colorbar of sorted colours using sorted_data and the original spectral colormap.\n",
      "\n",
      "You can uncomment the last line to save the figure as a PNG image file."
     ]
    },
    {
     "cell_type": "code",
     "collapsed": false,
     "input": [
      "fig4 = plt.figure(figsize=(20, 4))\n",
      "ax4 = fig4.add_subplot(1, 1, 1)\n",
      "\n",
      "ax4.set_xticks([])\n",
      "ax4.set_yticks([])\n",
      "\n",
      "ax4.set_xlabel('Colours sorted by intensity', fontsize = '32')\n",
      "im = ax4.imshow([sorted_data], interpolation = 'none', cmap = 'spectral', aspect = '2')\n",
      "plt.show()\n",
      "\n",
      "#fig4.savefig('sorted_colours.png', dpi=100)"
     ],
     "language": "python",
     "metadata": {},
     "outputs": [
      {
       "metadata": {},
       "output_type": "display_data",
       "png": "[encoded data removed]",
       "text": [
        "<matplotlib.figure.Figure at 0x7fa1690>"
       ]
      }
     ],
     "prompt_number": 15
    },
    {
     "cell_type": "markdown",
     "metadata": {},
     "source": [
      "So far we've demonstrated that spectral is not a good palette in the sense that it does not have a monotonic and increasing intensity profile.\n",
      "But there's one more reason why it is bad, which has to do with variation in the rate of change in the intensity values.\n",
      "\n",
      "The next couple of blocks of code generate a plot where each of the sorted colors is plotted as a 1-sample gray line, at a position on a scale 0-255 (a more typical length for colormaps) corresponding to its intensity, and with a gray value also corresponding to its intensity. Bear with me, it wil lbe all perfectly clear at the end."
     ]
    },
    {
     "cell_type": "markdown",
     "metadata": {},
     "source": [
      "First we create a 256 x 1 array of zeros. Then at the samples positions corresponding to the sorted intensity, we replace the zero with the intensity value."
     ]
    },
    {
     "cell_type": "code",
     "collapsed": false,
     "input": [
      "euclidean_intensity = (np.ones(256)*255) \n",
      "\n",
      "euclidean_intensity[sorted_intensity.astype(int)] = [0,  25,  32,  54,  63,  73,  96, 102, 115, 118, 123, 150, 166,                                        \n",
      "       201, 204, 207]"
     ],
     "language": "python",
     "metadata": {},
     "outputs": [],
     "prompt_number": 16
    },
    {
     "cell_type": "markdown",
     "metadata": {},
     "source": [
      "You can uncomment the command below if you want to look at the resulting array."
     ]
    },
    {
     "cell_type": "code",
     "collapsed": false,
     "input": [
      "#print euclidean_intensity"
     ],
     "language": "python",
     "metadata": {},
     "outputs": [],
     "prompt_number": 17
    },
    {
     "cell_type": "markdown",
     "metadata": {},
     "source": [
      "And now we create the plot."
     ]
    },
    {
     "cell_type": "code",
     "collapsed": false,
     "input": [
      "fig5 = plt.figure(figsize=(20,4))\n",
      "ax5 = fig5.add_subplot(1, 1, 1)\n",
      "\n",
      "ax5.set_xticks([])\n",
      "ax5.set_yticks([])\n",
      "\n",
      "ax5.set_xlabel('Sorted colour intensity, euclidean distance',  fontsize = '27')\n",
      "im = ax5.imshow([euclidean_intensity], interpolation = 'none', cmap = 'gray',aspect = '32')\n",
      "plt.show()\n",
      "\n",
      "# fig5.savefig('sorted_intensity_0-255.png', dpi=100)"
     ],
     "language": "python",
     "metadata": {},
     "outputs": [
      {
       "metadata": {},
       "output_type": "display_data",
       "png": "[encoded data removed]",
       "text": [
        "<matplotlib.figure.Figure at 0x7eb3a90>"
       ]
      }
     ],
     "prompt_number": 18
    },
    {
     "cell_type": "markdown",
     "metadata": {},
     "source": [
      "What is this plot telling us? It is telling us that even if the colors in fig4 are sorted by intensity, they are not equally spaced on a 0-255 scale. Towards the right end we see a cluster of 3, these are the ones in fig3 I mentioned earlier which looked all fairly similar in intensity, and indeed we see they are 9the values are 201, 204, and 207).  There are other clusters, but they are less noticeable for two reasons: first they are not as tight, and second the just noticeable difference increases towards darker intensities (for reference on the just noticeable difference see http://en.wikipedia.org/wiki/Just-noticeable_difference). The implication is that if we were to take the 16 colors in fig4 (assuming we did not find the sequence of hue ugly) and interpolate in RGB space to get a colormap of 256, we'd create several segments between each pair of consecutive colours with wildly varying intensity gradients."
     ]
    },
    {
     "cell_type": "markdown",
     "metadata": {},
     "source": [
      "N.B. \n",
      "One final remark.\n",
      "As a test I converted fig1 and fig4 to grayscale. I was expecting for fig1 to look like fig2 and for fig 4 to look like fig 3.\n",
      "Instead, they did not (I used ImageJ). I verified from many sources the formula I used for intensity: intensity = 0.2989*R + 0.5870*G + 0.1140*B\n",
      "\n",
      "Then I discovered there are several formulas and I am using just one of them:\n",
      "http://www.tannerhelland.com/3643/grayscale-image-algorithm-vb6/\n",
      "\n"
     ]
    },
    {
     "cell_type": "heading",
     "level": 3,
     "metadata": {},
     "source": [
      "Perception test"
     ]
    },
    {
     "cell_type": "heading",
     "level": 4,
     "metadata": {},
     "source": [
      "1 - Importing MyCarta's perceptual Linear-L rainbow palette and converting it into a custom, 256-sample Matplotlib colormap."
     ]
    },
    {
     "cell_type": "markdown",
     "metadata": {},
     "source": [
      "The LinerL palette is a modification of a palette introduced in Kindlmann, E., et al. (2002) - Face-based Luminance Matching for Perceptual Colour map Generation - Proceedings of IEEE Visualization, 299-306.\n",
      "I described the adjustments I made in: The rainbow is dead\u2026 long live the rainbow! \u2013 part 5 \u2013 CIE Lab linear L* rainbow, MyCarta blog - http://wp.me/p1IlJY-Du"
     ]
    },
    {
     "cell_type": "markdown",
     "metadata": {},
     "source": [
      "This block of code reads in Red, Green, and Blue triplets from a tab-delimited text file. RGB values in the file are in the range 0-255 and are converted to integers upon importing."
     ]
    },
    {
     "cell_type": "code",
     "collapsed": false,
     "input": [
      "# LinL = np.loadtxt('data/Linear_L_0-1.txt') \n",
      "linl = np.loadtxt('Linear_L_0-1.txt') "
     ],
     "language": "python",
     "metadata": {},
     "outputs": [],
     "prompt_number": 19
    },
    {
     "cell_type": "markdown",
     "metadata": {},
     "source": [
      "Checking the imported values by looking at first 10 RGB triplets"
     ]
    },
    {
     "cell_type": "code",
     "collapsed": false,
     "input": [
      "linl[0:9]"
     ],
     "language": "python",
     "metadata": {},
     "outputs": [
      {
       "metadata": {},
       "output_type": "pyout",
       "prompt_number": 20,
       "text": [
        "array([[ 0.0143,  0.0143,  0.0143],\n",
        "       [ 0.0404,  0.0125,  0.0325],\n",
        "       [ 0.0516,  0.0154,  0.0443],\n",
        "       [ 0.0616,  0.0184,  0.053 ],\n",
        "       [ 0.0699,  0.0215,  0.0615],\n",
        "       [ 0.0814,  0.0229,  0.0687],\n",
        "       [ 0.0857,  0.0273,  0.0763],\n",
        "       [ 0.0928,  0.0305,  0.0805],\n",
        "       [ 0.1008,  0.033 ,  0.0846]])"
       ]
      }
     ],
     "prompt_number": 20
    },
    {
     "cell_type": "raw",
     "metadata": {},
     "source": [
      "The next block of code converts the RGB values from 3 1-D arrays with this format (Red is shown as an example - but for a different palette so values are different):\n",
      "r=[0.4807, 0.4837, 0.4871, 0.4906,...] \n",
      "\n",
      "first, to 3 lists with this format:\n",
      "[(0.00000, 0.4807, 0.4807),\n",
      " (0.00392, 0.4837, 0.4837),\n",
      " (0.00784, 0.4871, 0.4871),\n",
      " ...]\n",
      "\n",
      "in which the first column specifies the position of the nth Red sample (n ranges from 0-255) normalized to the  range 0-1, and the second and third columns specify the value of Red at the nth sample\n",
      "\n",
      "and then, to a dictionary that has this format:\n",
      "{\n",
      "'red': [\n",
      " (0.00000, 0.4807, 0.4807),\n",
      " (0.00392, 0.4837, 0.4837),\n",
      " (0.00784, 0.4871, 0.4871),\n",
      " ...],\n",
      "'blue': [\n",
      " ..., \n",
      " ...],\n",
      "'green': [\n",
      " ..., \n",
      " ...],\n",
      "}\n",
      "\n",
      "This is the format required to define custom colormaps using matplotlib.colors\n",
      "http://matplotlib.org/api/colors_api.html#matplotlib.colors.LinearSegmentedColormap"
     ]
    },
    {
     "cell_type": "markdown",
     "metadata": {},
     "source": [
      "Converting palette to dictionary format"
     ]
    },
    {
     "cell_type": "code",
     "collapsed": false,
     "input": [
      "# setting up color arrays\n",
      "r1 = linl[:, 0] # value of Red for the nth sample\n",
      "g1 = linl[:, 1] # value of Green for the nth sample\n",
      "b1 = linl[:, 2] # value of Blue for the nth sample\n",
      "\n",
      "r2 = r1 # value of Red at the nth sample\n",
      "r0 = np.linspace(0, 1, len(r1)) # position of the nth Red sample within the range 0 to 1\n",
      "\n",
      "g2 = g1 # value of Green at the nth sample\n",
      "g0 = np.linspace(0, 1, len(g1)) # position of the nth Green sample within the range 0 to 1\n",
      "\n",
      "b2 = b1 # value of Blue the nth sample\n",
      "b0 = np.linspace(0, 1, len(b1)) # position of the nth Blue sample within the range 0 to 1\n",
      "\n",
      "# creating lists\n",
      "R = zip(r0, r1, r2)\n",
      "G = zip(g0, g1, g2)\n",
      "B = zip(b0, b1, b2)\n",
      "\n",
      "# creating list of above lists and transposing\n",
      "RGB = zip(R, G, B)\n",
      "rgb = zip(*RGB)\n",
      "#print rgb\n",
      "\n",
      "# creating dictionary\n",
      "k=['red', 'green', 'blue'] # makes list of keys\n",
      "linearl=dict(zip(k,rgb)) # makes a dictionary from list of keys and list of values"
     ],
     "language": "python",
     "metadata": {},
     "outputs": [],
     "prompt_number": 21
    },
    {
     "cell_type": "markdown",
     "metadata": {},
     "source": [
      "This block of code creates the custom Matplotlib color palette, then uses the same 8x8 checker-board pattern to test the result."
     ]
    },
    {
     "cell_type": "code",
     "collapsed": false,
     "input": [
      "my_l = clr.LinearSegmentedColormap('my_colormap', linearl)\n",
      "\n",
      "plt.figure(figsize=(5,4)) \n",
      "plt.pcolor(rndm, cmap=my_l)\n",
      "plt.colorbar()\n",
      "plt.show()"
     ],
     "language": "python",
     "metadata": {},
     "outputs": [
      {
       "metadata": {},
       "output_type": "display_data",
       "png": "[encoded data removed]",
       "text": [
        "<matplotlib.figure.Figure at 0x7f20cd0>"
       ]
      }
     ],
     "prompt_number": 22
    },
    {
     "cell_type": "heading",
     "level": 4,
     "metadata": {},
     "source": [
      "2 - import the elevation data for the Great Pyramid of Gyza."
     ]
    },
    {
     "cell_type": "markdown",
     "metadata": {},
     "source": [
      "Great Pyramid of Khufu in Giza\n",
      "using the original (pre-erosion) dimensions of 755x755x482 feet \n",
      "I am using imperial measurements as they are round numbers - metrics measurements are not"
     ]
    }
   ],
   "metadata": {}
  }
 ]
}